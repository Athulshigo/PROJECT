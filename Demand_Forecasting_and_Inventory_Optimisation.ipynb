{
  "cells": [
    {
      "cell_type": "markdown",
      "metadata": {
        "id": "jGvvACeF2uM9"
      },
      "source": [
        "# Build Data for Predictive Modeling"
      ]
    },
    {
      "cell_type": "markdown",
      "metadata": {
        "id": "rPDqBTpt2uM9"
      },
      "source": [
        "### Load Necessary Packages"
      ]
    },
    {
      "cell_type": "code",
      "execution_count": 1,
      "metadata": {
        "collapsed": true,
        "id": "vND3ltbe2uM-"
      },
      "outputs": [],
      "source": [
        "import os\n",
        "import numpy as np\n",
        "import pandas as pd\n",
        "from google.colab import drive\n",
        "from sklearn.preprocessing import LabelEncoder"
      ]
    },
    {
      "cell_type": "markdown",
      "metadata": {
        "id": "C4kPY4zG2uM-"
      },
      "source": [
        "### Create function for checking memory usage of dataframes"
      ]
    },
    {
      "cell_type": "code",
      "execution_count": 2,
      "metadata": {
        "collapsed": true,
        "id": "zwtTGp9u2uM-"
      },
      "outputs": [],
      "source": [
        "def check_memory_usage(data):\n",
        "    \"\"\" Takes DataFrame as input and returns memory usage statistics.\n",
        "    \"\"\"\n",
        "    print('')\n",
        "    print('Checking memory usage statistics... ')\n",
        "    print(data.info(memory_usage=True))"
      ]
    },
    {
      "cell_type": "markdown",
      "metadata": {
        "id": "1WTr5Fqs2uM-"
      },
      "source": [
        "### Load the data"
      ]
    },
    {
      "cell_type": "code",
      "execution_count": 3,
      "metadata": {
        "colab": {
          "base_uri": "https://localhost:8080/"
        },
        "id": "5ber6LyMEAIV",
        "outputId": "5734315c-73b4-4dae-f7c7-7708d7cf16e9"
      },
      "outputs": [
        {
          "output_type": "stream",
          "name": "stdout",
          "text": [
            "Mounted at /content/drive\n"
          ]
        }
      ],
      "source": [
        "drive.mount('/content/drive')"
      ]
    },
    {
      "cell_type": "code",
      "execution_count": 4,
      "metadata": {
        "collapsed": true,
        "id": "yJZggfZo2uM-"
      },
      "outputs": [],
      "source": [
        "def load_data():\n",
        "    \"\"\" Loads and returns competition data, including modified clients and products data.\n",
        "    \"\"\"\n",
        "    # Defining Dataset\n",
        "\n",
        "\n",
        "    # Load data efficiently to use less RAM\n",
        "    train_types = {\n",
        "                    'Semana': np.uint8, 'Agencia_ID': np.uint16, 'Canal_ID': np.uint8\n",
        "                    ,'Ruta_SAK': np.uint16, 'Cliente_ID': np.uint32, 'Producto_ID': np.uint16\n",
        "                    ,'Demanda_uni_equil': np.uint16\n",
        "                    }\n",
        "\n",
        "    test_types =  {\n",
        "                    'Semana': np.uint8, 'Agencia_ID': np.uint16, 'Canal_ID': np.uint8\n",
        "                    ,'Ruta_SAK': np.uint16, 'Cliente_ID': np.uint32, 'Producto_ID': np.uint16\n",
        "                    }\n",
        "\n",
        "    product_types = {'Producto_ID': np.uint16, 'weight': np.float32, 'pieces': np.float32\n",
        "                    , 'weight_per_piece': np.float32, 'short_product_name': object\n",
        "                    }\n",
        "\n",
        "    #Loading data\n",
        "\n",
        "    train = pd.read_csv('/content/drive/MyDrive/oo/Dataset/train.csv', sep = \",\", usecols = train_types.keys(), dtype = train_types)\n",
        "    test = pd.read_csv('/content/drive/MyDrive/oo/Dataset/test.csv', sep = \",\", usecols = test_types.keys(), dtype = test_types)\n",
        "\n",
        "    clients = pd.read_csv('/content/drive/MyDrive/oo/Dataset/cliente_tabla_modified.csv', sep = \",\")\n",
        "    products = pd.read_csv('/content/drive/MyDrive/oo/Dataset/producto_tabla_modified.csv', sep = \",\", usecols = product_types.keys(), dtype = product_types)\n",
        "\n",
        "    # Return data\n",
        "    return train, test, clients, products"
      ]
    },
    {
      "cell_type": "code",
      "execution_count": 5,
      "metadata": {
        "colab": {
          "base_uri": "https://localhost:8080/"
        },
        "id": "JEwLsNdw2uM_",
        "outputId": "52ca0023-064c-4378-eb05-7e5fce3ce871"
      },
      "outputs": [
        {
          "output_type": "stream",
          "name": "stdout",
          "text": [
            "1. Loading data...\n",
            "Complete!\n",
            "\n",
            "\n",
            "Checking memory usage statistics... \n",
            "<class 'pandas.core.frame.DataFrame'>\n",
            "RangeIndex: 74180464 entries, 0 to 74180463\n",
            "Data columns (total 7 columns):\n",
            " #   Column             Dtype \n",
            "---  ------             ----- \n",
            " 0   Semana             uint8 \n",
            " 1   Agencia_ID         uint16\n",
            " 2   Canal_ID           uint8 \n",
            " 3   Ruta_SAK           uint16\n",
            " 4   Cliente_ID         uint32\n",
            " 5   Producto_ID        uint16\n",
            " 6   Demanda_uni_equil  uint16\n",
            "dtypes: uint16(4), uint32(1), uint8(2)\n",
            "memory usage: 990.4 MB\n",
            "None\n"
          ]
        }
      ],
      "source": [
        "print(\"1. Loading data...\")\n",
        "train, test, clients, products = load_data()\n",
        "print(\"Complete!\")\n",
        "print('')\n",
        "check_memory_usage(train)"
      ]
    },
    {
      "cell_type": "markdown",
      "metadata": {
        "id": "0L1YhZc72uM_"
      },
      "source": [
        "### Merge data"
      ]
    },
    {
      "cell_type": "code",
      "execution_count": 6,
      "metadata": {
        "collapsed": true,
        "id": "jOvJhcbQ2uM_"
      },
      "outputs": [],
      "source": [
        "def merge_data(train, test, clients, products):\n",
        "    \"\"\" Merges client and product data with train and test data.\n",
        "        Returns modified train and test data.\n",
        "    \"\"\"\n",
        "\n",
        "    # Merge product information\n",
        "    train = train.merge(products, how = 'left', on = ['Producto_ID'])\n",
        "    test = test.merge(products, how = 'left', on = ['Producto_ID'])\n",
        "\n",
        "    # Merge cliente information\n",
        "    train = train.merge(clients.loc[:, ['Cliente_ID', 'Client_Type']], how = 'left', on = ['Cliente_ID'])\n",
        "    test = test.merge(clients.loc[:, ['Cliente_ID', 'Client_Type']], how = 'left', on = ['Cliente_ID'])\n",
        "\n",
        "    return train, test"
      ]
    },
    {
      "cell_type": "code",
      "execution_count": 7,
      "metadata": {
        "colab": {
          "base_uri": "https://localhost:8080/"
        },
        "id": "Cn0S4zX92uM_",
        "outputId": "4c83e190-d1d1-436b-c206-48b4aac3751e"
      },
      "outputs": [
        {
          "output_type": "stream",
          "name": "stdout",
          "text": [
            "2. Merging data...\n",
            "Complete!\n",
            "\n",
            "\n",
            "Checking memory usage statistics... \n",
            "<class 'pandas.core.frame.DataFrame'>\n",
            "RangeIndex: 74180464 entries, 0 to 74180463\n",
            "Data columns (total 12 columns):\n",
            " #   Column              Dtype  \n",
            "---  ------              -----  \n",
            " 0   Semana              uint8  \n",
            " 1   Agencia_ID          uint16 \n",
            " 2   Canal_ID            uint8  \n",
            " 3   Ruta_SAK            uint16 \n",
            " 4   Cliente_ID          uint32 \n",
            " 5   Producto_ID         uint16 \n",
            " 6   Demanda_uni_equil   uint16 \n",
            " 7   weight              float32\n",
            " 8   pieces              float32\n",
            " 9   weight_per_piece    float32\n",
            " 10  short_product_name  object \n",
            " 11  Client_Type         object \n",
            "dtypes: float32(3), object(2), uint16(4), uint32(1), uint8(2)\n",
            "memory usage: 2.9+ GB\n",
            "None\n"
          ]
        }
      ],
      "source": [
        "print(\"2. Merging data...\")\n",
        "train, test = merge_data(train, test, clients, products)\n",
        "print(\"Complete!\")\n",
        "print(\"\")\n",
        "check_memory_usage(train)"
      ]
    },
    {
      "cell_type": "markdown",
      "metadata": {
        "id": "BFynpKDQ2uNA"
      },
      "source": [
        "### Add time series lag variables to data"
      ]
    },
    {
      "cell_type": "code",
      "execution_count": 8,
      "metadata": {
        "collapsed": true,
        "id": "G2HLxTlc2uNA"
      },
      "outputs": [],
      "source": [
        "def add_time_series_features(train, test):\n",
        "    \"\"\" Takes train and test data as inputs.\n",
        "        Adds lagged adjusted demand variables to the data periods t-2, t-3, t-4, and t-5.\n",
        "        Returns modified data.\n",
        "    \"\"\"\n",
        "    # Add lagged time series variables to train/test\n",
        "    # Groups by (Cliente_ID, Producto_ID)\n",
        "    for i in range(1, 6):\n",
        "        # Add tminus to train\n",
        "        columns = ['Semana', 'Cliente_ID', 'Producto_ID', 'Demanda_uni_equil']\n",
        "        train_tminus = train.loc[:, columns]\n",
        "        train_tminus = train_tminus.rename(columns = {'Demanda_uni_equil': 'Demanda_uni_equil_tminus' + str(i)})\n",
        "        train_tminus['Semana'] = train_tminus['Semana'] + i\n",
        "        columns.remove('Demanda_uni_equil')\n",
        "        train_tminus = pd.DataFrame({'Demanda_uni_equil_tminus' + str(i) : train_tminus.groupby(columns)['Demanda_uni_equil_tminus' + str(i)].mean()}).reset_index()\n",
        "\n",
        "        train = train.merge(train_tminus, how = 'left', on = ['Semana', 'Cliente_ID', 'Producto_ID'])\n",
        "        train['Demanda_uni_equil_tminus' + str(i)] = train['Demanda_uni_equil_tminus' + str(i)].astype(np.float16)\n",
        "\n",
        "        # Add tminus for Semana == 10\n",
        "        columns = ['Semana', 'Cliente_ID', 'Producto_ID', 'Demanda_uni_equil_tminus' + str(i)]\n",
        "        test = test.merge(train_tminus.loc[train_tminus['Semana'] == 10, columns], how = 'left', on = ['Semana', 'Cliente_ID', 'Producto_ID'])\n",
        "        test['Demanda_uni_equil_tminus' + str(i)] = test['Demanda_uni_equil_tminus' + str(i)].astype(np.float16)\n",
        "\n",
        "        # Add tminus for Semana == 11\n",
        "        if(i != 1):\n",
        "            test = test.merge(train_tminus.loc[train_tminus['Semana'] == 11, columns], how = 'left', on = ['Semana', 'Cliente_ID', 'Producto_ID'])\n",
        "            test = test.rename(columns = {'Demanda_uni_equil_tminus' + str(i) + '_x': 'Demanda_uni_equil_tminus' + str(i)})\n",
        "            test.loc[test['Semana'] == 11, 'Demanda_uni_equil_tminus' + str(i)] = test.loc[test['Semana'] == 11, 'Demanda_uni_equil_tminus' + str(i) + '_y']\n",
        "            test = test.drop('Demanda_uni_equil_tminus' + str(i) + '_y', axis = 1)\n",
        "            test['Demanda_uni_equil_tminus' + str(i)] = test['Demanda_uni_equil_tminus' + str(i)].astype(np.float16)\n",
        "\n",
        "        # Replace null values with zeros\n",
        "        train.loc[train['Demanda_uni_equil_tminus' + str(i)].isnull(), 'Demanda_uni_equil_tminus' + str(i)] = 0\n",
        "        test.loc[test['Demanda_uni_equil_tminus' + str(i)].isnull(), 'Demanda_uni_equil_tminus' + str(i)] = 0\n",
        "\n",
        "    return train, test"
      ]
    },
    {
      "cell_type": "code",
      "execution_count": 9,
      "metadata": {
        "id": "Rd4f4syj2uNA",
        "colab": {
          "base_uri": "https://localhost:8080/"
        },
        "outputId": "c03b3028-f0af-4754-b683-dbdcfda0d7bf"
      },
      "outputs": [
        {
          "output_type": "stream",
          "name": "stdout",
          "text": [
            "3. Adding time series features...\n",
            "Complete!\n",
            "\n",
            "\n",
            "Checking memory usage statistics... \n",
            "<class 'pandas.core.frame.DataFrame'>\n",
            "RangeIndex: 74180464 entries, 0 to 74180463\n",
            "Data columns (total 17 columns):\n",
            " #   Column                     Dtype  \n",
            "---  ------                     -----  \n",
            " 0   Semana                     uint8  \n",
            " 1   Agencia_ID                 uint16 \n",
            " 2   Canal_ID                   uint8  \n",
            " 3   Ruta_SAK                   uint16 \n",
            " 4   Cliente_ID                 uint32 \n",
            " 5   Producto_ID                uint16 \n",
            " 6   Demanda_uni_equil          uint16 \n",
            " 7   weight                     float32\n",
            " 8   pieces                     float32\n",
            " 9   weight_per_piece           float32\n",
            " 10  short_product_name         object \n",
            " 11  Client_Type                object \n",
            " 12  Demanda_uni_equil_tminus1  float16\n",
            " 13  Demanda_uni_equil_tminus2  float16\n",
            " 14  Demanda_uni_equil_tminus3  float16\n",
            " 15  Demanda_uni_equil_tminus4  float16\n",
            " 16  Demanda_uni_equil_tminus5  float16\n",
            "dtypes: float16(5), float32(3), object(2), uint16(4), uint32(1), uint8(2)\n",
            "memory usage: 3.6+ GB\n",
            "None\n"
          ]
        }
      ],
      "source": [
        "print(\"3. Adding time series features...\")\n",
        "train, test = add_time_series_features(train, test)\n",
        "print(\"Complete!\")\n",
        "print(\"\")\n",
        "check_memory_usage(train)"
      ]
    },
    {
      "cell_type": "markdown",
      "metadata": {
        "id": "2TpqtNqG2uNA"
      },
      "source": [
        "### Add mean weekly frequency variables for categorical id variables"
      ]
    },
    {
      "cell_type": "code",
      "execution_count": 10,
      "metadata": {
        "collapsed": true,
        "id": "g50Fswhp2uNA"
      },
      "outputs": [],
      "source": [
        "def add_mean_freq_by_id(train, test):\n",
        "    \"\"\" Takes train and test data as inputs.\n",
        "        Adds mean of frequencies of different id features by week (semana).\n",
        "        Returns train and test data.\n",
        "    \"\"\"\n",
        "    columns =  ['Agencia_ID', 'Canal_ID', 'Ruta_SAK', 'Cliente_ID', 'Producto_ID', 'short_product_name', 'Client_Type']\n",
        "    for column in columns:\n",
        "\n",
        "        # Create mean of weekly id counts\n",
        "        train_counts = pd.DataFrame({column + '_count' : train[[column, 'Semana']].groupby([column, 'Semana']).size()}).reset_index()\n",
        "        test_counts = pd.DataFrame({column + '_count' : test[[column, 'Semana']].groupby([column, 'Semana']).size()}).reset_index()\n",
        "        counts = pd.concat([train_counts, test_counts], axis = 0)\n",
        "        counts = pd.DataFrame({column + '_count' : counts.groupby([column])[column + '_count'].mean()}).reset_index()\n",
        "        counts[column + '_count'] = counts[column + '_count'].astype(np.float32)\n",
        "\n",
        "        # Merge with train and test data\n",
        "        train = train.merge(counts, how = 'left', on = column)\n",
        "        test = test.merge(counts, how = 'left', on = column)\n",
        "\n",
        "    return train, test"
      ]
    },
    {
      "cell_type": "code",
      "execution_count": 11,
      "metadata": {
        "id": "SPRxAJY92uNA",
        "colab": {
          "base_uri": "https://localhost:8080/"
        },
        "outputId": "00f536a1-a797-4e71-cc8b-e5f79e150f4f"
      },
      "outputs": [
        {
          "output_type": "stream",
          "name": "stdout",
          "text": [
            "4. Adding id frequency variables... \n",
            "Complete!\n",
            "\n",
            "\n",
            "Checking memory usage statistics... \n",
            "<class 'pandas.core.frame.DataFrame'>\n",
            "RangeIndex: 74180464 entries, 0 to 74180463\n",
            "Data columns (total 24 columns):\n",
            " #   Column                     Dtype  \n",
            "---  ------                     -----  \n",
            " 0   Semana                     uint8  \n",
            " 1   Agencia_ID                 uint16 \n",
            " 2   Canal_ID                   uint8  \n",
            " 3   Ruta_SAK                   uint16 \n",
            " 4   Cliente_ID                 uint32 \n",
            " 5   Producto_ID                uint16 \n",
            " 6   Demanda_uni_equil          uint16 \n",
            " 7   weight                     float32\n",
            " 8   pieces                     float32\n",
            " 9   weight_per_piece           float32\n",
            " 10  short_product_name         object \n",
            " 11  Client_Type                object \n",
            " 12  Demanda_uni_equil_tminus1  float16\n",
            " 13  Demanda_uni_equil_tminus2  float16\n",
            " 14  Demanda_uni_equil_tminus3  float16\n",
            " 15  Demanda_uni_equil_tminus4  float16\n",
            " 16  Demanda_uni_equil_tminus5  float16\n",
            " 17  Agencia_ID_count           float32\n",
            " 18  Canal_ID_count             float32\n",
            " 19  Ruta_SAK_count             float32\n",
            " 20  Cliente_ID_count           float32\n",
            " 21  Producto_ID_count          float32\n",
            " 22  short_product_name_count   float32\n",
            " 23  Client_Type_count          float32\n",
            "dtypes: float16(5), float32(10), object(2), uint16(4), uint32(1), uint8(2)\n",
            "memory usage: 5.5+ GB\n",
            "None\n"
          ]
        }
      ],
      "source": [
        "#print train.columns\n",
        "print(\"4. Adding id frequency variables... \")\n",
        "train, test = add_mean_freq_by_id(train, test)\n",
        "print(\"Complete!\")\n",
        "print('')\n",
        "check_memory_usage(train)"
      ]
    },
    {
      "cell_type": "markdown",
      "metadata": {
        "id": "L0FLMMPS2uNB"
      },
      "source": [
        "### Encode categorical variables"
      ]
    },
    {
      "cell_type": "code",
      "execution_count": 12,
      "metadata": {
        "collapsed": true,
        "id": "giGKBY512uNB"
      },
      "outputs": [],
      "source": [
        "def encode_labels(train, test, threshold):\n",
        "    \"\"\" Converts categorical features to integers in train and test data.\n",
        "        Groups values in categorical features appearing less than threshold into a separate category.\n",
        "        Returns train and test data.\n",
        "    \"\"\"\n",
        "\n",
        "    # Identify columns for label encoding\n",
        "    columns = list(train.columns[train.dtypes == 'object'])\n",
        "\n",
        "    # Return data if no columns identified\n",
        "    if(len(columns) == 0):\n",
        "        return train, test\n",
        "\n",
        "    # Transform columns\n",
        "    for column in columns:\n",
        "\n",
        "        # Filter data\n",
        "        classes = train[column].unique()\n",
        "        counts = train[column].value_counts()\n",
        "        counts_classes = counts.index[counts <= threshold]\n",
        "\n",
        "        # Set classes under threshold to 'identific'\n",
        "        train.loc[train[column].isin(counts_classes), column] = 'identific'\n",
        "        test.loc[test[column].isin(counts_classes), column] = 'identific'\n",
        "\n",
        "        # Classes in test not in train sent to 'identific'\n",
        "        test.loc[test[column].isin(classes) == False, column] = 'identific'\n",
        "\n",
        "        # Perform label encoding\n",
        "        le = LabelEncoder()\n",
        "        le.fit(train[column])\n",
        "        train[column] = le.transform(train[column]).astype(np.uint32)\n",
        "        test[column] = le.transform(test[column]).astype(np.uint32)\n",
        "\n",
        "    return train, test"
      ]
    },
    {
      "cell_type": "code",
      "execution_count": 13,
      "metadata": {
        "collapsed": true,
        "id": "l5W1IrIe2uNB",
        "colab": {
          "base_uri": "https://localhost:8080/"
        },
        "outputId": "fa5e1a94-386e-46a2-8e31-314964ecf831"
      },
      "outputs": [
        {
          "output_type": "stream",
          "name": "stdout",
          "text": [
            "5. Encoding labels in data...\n",
            "Complete!\n"
          ]
        }
      ],
      "source": [
        "print(\"5. Encoding labels in data...\")\n",
        "train, test = encode_labels(train, test, threshold = 5)\n",
        "print(\"Complete!\")"
      ]
    },
    {
      "cell_type": "markdown",
      "metadata": {
        "id": "wQd0Dyl82uNB"
      },
      "source": [
        "### Remove data before Week 6"
      ]
    },
    {
      "cell_type": "code",
      "execution_count": 14,
      "metadata": {
        "collapsed": true,
        "id": "S_IVIsaM2uNB",
        "colab": {
          "base_uri": "https://localhost:8080/"
        },
        "outputId": "4a77a867-de49-413a-b182-7a458de26130"
      },
      "outputs": [
        {
          "output_type": "stream",
          "name": "stdout",
          "text": [
            "Shape Before (train): (74180464, 24)\n",
            "Shape After (train): (41390267, 24)\n"
          ]
        }
      ],
      "source": [
        "print(\"Shape Before (train): \" + str(train.shape))\n",
        "train = train[train['Semana'] > 5]\n",
        "train = train.reset_index(drop=True)\n",
        "print(\"Shape After (train): \" + str(train.shape))"
      ]
    },
    {
      "cell_type": "markdown",
      "metadata": {
        "id": "LHnBCRfB2uNB"
      },
      "source": [
        "### Reorder columns in data"
      ]
    },
    {
      "cell_type": "code",
      "execution_count": 15,
      "metadata": {
        "collapsed": true,
        "id": "uRgIB2LM2uNB"
      },
      "outputs": [],
      "source": [
        "columns = [\n",
        "            'Semana', 'Agencia_ID', 'Canal_ID', 'Ruta_SAK', 'Cliente_ID', 'Producto_ID'\n",
        "            , 'Client_Type', 'short_product_name'\n",
        "            , 'weight', 'pieces', 'weight_per_piece'\n",
        "            , 'Demanda_uni_equil', 'Demanda_uni_equil_tminus1', 'Demanda_uni_equil_tminus2'\n",
        "            , 'Demanda_uni_equil_tminus3', 'Demanda_uni_equil_tminus4', 'Demanda_uni_equil_tminus5'\n",
        "            , 'Agencia_ID_count', 'Canal_ID_count', 'Ruta_SAK_count', 'Cliente_ID_count'\n",
        "            , 'Producto_ID_count', 'Client_Type_count'\n",
        "          ]\n",
        "\n",
        "train = train.reindex(columns = columns)\n",
        "columns.remove('Demanda_uni_equil')\n",
        "test = test.reindex(columns = columns)"
      ]
    },
    {
      "cell_type": "markdown",
      "metadata": {
        "id": "cY9kxMp62uNB"
      },
      "source": [
        "### Write data to CSV files"
      ]
    },
    {
      "cell_type": "code",
      "execution_count": 16,
      "metadata": {
        "id": "uY5RUHuq2uNB",
        "colab": {
          "base_uri": "https://localhost:8080/"
        },
        "outputId": "028035a7-0c34-4637-d69b-0bea2204b3bc"
      },
      "outputs": [
        {
          "output_type": "stream",
          "name": "stdout",
          "text": [
            "\n",
            "Checking memory usage statistics... \n",
            "<class 'pandas.core.frame.DataFrame'>\n",
            "RangeIndex: 41390267 entries, 0 to 41390266\n",
            "Data columns (total 23 columns):\n",
            " #   Column                     Dtype  \n",
            "---  ------                     -----  \n",
            " 0   Semana                     uint8  \n",
            " 1   Agencia_ID                 uint16 \n",
            " 2   Canal_ID                   uint8  \n",
            " 3   Ruta_SAK                   uint16 \n",
            " 4   Cliente_ID                 uint32 \n",
            " 5   Producto_ID                uint16 \n",
            " 6   Client_Type                uint32 \n",
            " 7   short_product_name         uint32 \n",
            " 8   weight                     float32\n",
            " 9   pieces                     float32\n",
            " 10  weight_per_piece           float32\n",
            " 11  Demanda_uni_equil          uint16 \n",
            " 12  Demanda_uni_equil_tminus1  float16\n",
            " 13  Demanda_uni_equil_tminus2  float16\n",
            " 14  Demanda_uni_equil_tminus3  float16\n",
            " 15  Demanda_uni_equil_tminus4  float16\n",
            " 16  Demanda_uni_equil_tminus5  float16\n",
            " 17  Agencia_ID_count           float32\n",
            " 18  Canal_ID_count             float32\n",
            " 19  Ruta_SAK_count             float32\n",
            " 20  Cliente_ID_count           float32\n",
            " 21  Producto_ID_count          float32\n",
            " 22  Client_Type_count          float32\n",
            "dtypes: float16(5), float32(9), uint16(4), uint32(3), uint8(2)\n",
            "memory usage: 2.6 GB\n",
            "None\n"
          ]
        }
      ],
      "source": [
        "check_memory_usage(train)\n",
        "train.to_csv(\"train_modified.csv\", index = False, header = True)\n",
        "test.to_csv(\"test_modified.csv\", index = False, header = True)"
      ]
    },
    {
      "cell_type": "markdown",
      "metadata": {
        "id": "v87gfRhp2uNB"
      },
      "source": [
        "### Process complete!"
      ]
    },
    {
      "cell_type": "markdown",
      "metadata": {
        "id": "5_sgeTOl2uNC"
      },
      "source": [
        "# Modify Client and Product data"
      ]
    },
    {
      "cell_type": "markdown",
      "metadata": {
        "id": "3INZyl6G2uNC"
      },
      "source": [
        "Client features inspired by: https://www.kaggle.com/abbysobh/grupo-bimbo-inventory-demand/classifying-client-type-using-client-names\n",
        "\n",
        "Product features based on: https://www.kaggle.com/vykhand/grupo-bimbo-inventory-demand/exploring-products"
      ]
    },
    {
      "cell_type": "markdown",
      "metadata": {
        "id": "RSQ17n4t2uNC"
      },
      "source": [
        "### Import Necessary Packages"
      ]
    },
    {
      "cell_type": "code",
      "execution_count": 17,
      "metadata": {
        "collapsed": true,
        "id": "JaIe-zoT2uNC"
      },
      "outputs": [],
      "source": [
        "import os\n",
        "import numpy as np\n",
        "import pandas as pd\n",
        "import re\n",
        "from nltk import word_tokenize\n",
        "from nltk.stem import SnowballStemmer\n",
        "from nltk.corpus import stopwords\n",
        "stemmer = SnowballStemmer('spanish')\n",
        "from sklearn.feature_extraction.text import TfidfVectorizer"
      ]
    },
    {
      "cell_type": "code",
      "execution_count": 18,
      "metadata": {
        "id": "YAbIdbWZ2uNC",
        "colab": {
          "base_uri": "https://localhost:8080/"
        },
        "outputId": "b77b6560-ff78-4036-da5e-cbccb4761678"
      },
      "outputs": [
        {
          "output_type": "stream",
          "name": "stderr",
          "text": [
            "[nltk_data] Downloading package stopwords to /root/nltk_data...\n",
            "[nltk_data]   Unzipping corpora/stopwords.zip.\n"
          ]
        },
        {
          "output_type": "execute_result",
          "data": {
            "text/plain": [
              "True"
            ]
          },
          "metadata": {},
          "execution_count": 18
        }
      ],
      "source": [
        "import nltk\n",
        "nltk.download('stopwords')"
      ]
    },
    {
      "cell_type": "markdown",
      "metadata": {
        "id": "ofwgiJez2uNC"
      },
      "source": [
        "### Load the data"
      ]
    },
    {
      "cell_type": "code",
      "execution_count": 19,
      "metadata": {
        "collapsed": true,
        "id": "7lo38c4K2uNC"
      },
      "outputs": [],
      "source": [
        "def load_data():\n",
        "    \"\"\" Loads and returns client and product data.\n",
        "    \"\"\"\n",
        "    # Set work directory\n",
        "    # os.chdir('D:/OneDrive/Documents/Kaggle/Grupo Bimbo Inventory Demand/data')\n",
        "\n",
        "    # Load data\n",
        "    clients = pd.read_csv('/content/drive/MyDrive/oo/Dataset/cliente_tabla.csv', sep = \",\")\n",
        "    products = pd.read_csv('/content/drive/MyDrive/oo/Dataset/producto_tabla.csv', sep = \",\")\n",
        "\n",
        "    # Return data\n",
        "    return clients, products"
      ]
    },
    {
      "cell_type": "code",
      "execution_count": 20,
      "metadata": {
        "id": "HVc8YXs42uNC",
        "colab": {
          "base_uri": "https://localhost:8080/"
        },
        "outputId": "07f0cb30-611d-422d-f5d6-fcc1652966d2"
      },
      "outputs": [
        {
          "output_type": "stream",
          "name": "stdout",
          "text": [
            "1. Loading client and product data...\n",
            "Complete!\n"
          ]
        }
      ],
      "source": [
        "print(\"1. Loading client and product data...\")\n",
        "clients, products = load_data()\n",
        "print(\"Complete!\")"
      ]
    },
    {
      "cell_type": "markdown",
      "metadata": {
        "id": "OpGQm6py2uNC"
      },
      "source": [
        "### Build function to remove duplicate ids from client data"
      ]
    },
    {
      "cell_type": "code",
      "execution_count": 21,
      "metadata": {
        "collapsed": true,
        "id": "ktrbETiM2uNC"
      },
      "outputs": [],
      "source": [
        "def remove_duplicate_ids(clients):\n",
        "    \"\"\" Finds and removes duplicate ids from client data. Returns cleaned data.\n",
        "    \"\"\"\n",
        "    duplicate_ids = clients.duplicated(subset = 'Cliente_ID')\n",
        "    clients = clients[duplicate_ids == False]\n",
        "    return clients"
      ]
    },
    {
      "cell_type": "markdown",
      "metadata": {
        "id": "XZabmgLG2uND"
      },
      "source": [
        "### Create Client_type feature"
      ]
    },
    {
      "cell_type": "code",
      "execution_count": 22,
      "metadata": {
        "collapsed": true,
        "id": "yRywWC5M2uND"
      },
      "outputs": [],
      "source": [
        "def create_client_features(clients):\n",
        "    \"\"\" Takes clients data as input.\n",
        "        Creates new variable 'Client_Type' by categorizing NombreCliente.\n",
        "        Returns clients data.\n",
        "    \"\"\"\n",
        "\n",
        "    # Remove duplicate ids\n",
        "    clients = remove_duplicate_ids(clients)\n",
        "\n",
        "    # Create new feature\n",
        "    clients = clients.copy()\n",
        "    clients['Client_Type'] = clients.loc[:, 'NombreCliente']\n",
        "\n",
        "    # Convert to all UPPER-CASE\n",
        "    clients.loc[:, 'Client_Type'] = clients.loc[:, 'Client_Type'].str.upper()\n",
        "\n",
        "    # Known Large Company / Special Group Types\n",
        "    clients.loc[:, 'Client_Type'] = clients.loc[:, 'Client_Type'].str.replace('.*REMISION.*','Consignment')\n",
        "    clients.loc[:, 'Client_Type'] = clients.loc[:, 'Client_Type'].replace(['.*WAL MART.*','.*SAMS CLUB.*'],'Walmart', regex=True)\n",
        "    clients.loc[:, 'Client_Type'] = clients.loc[:, 'Client_Type'].str.replace('.*OXXO.*','Oxxo Store')\n",
        "    clients.loc[:, 'Client_Type'] = clients.loc[:, 'Client_Type'].str.replace('.*CONASUPO.*','Govt Store')\n",
        "    clients.loc[:, 'Client_Type'] = clients.loc[:, 'Client_Type'].str.replace('.*BIMBO.*','Bimbo Store')\n",
        "\n",
        "    # Term search for assortment of words picked from looking at their frequencies\n",
        "    clients.loc[:, 'Client_Type'] = clients.loc[:, 'Client_Type'].replace(['.*COLEG.*','.*UNIV.*','.*ESCU.*','.*INSTI.*',\\\n",
        "                                                        '.*PREPAR.*'],'School', regex=True)\n",
        "    clients.loc[:, 'Client_Type'] = clients.loc[:, 'Client_Type'].str.replace('.*PUESTO.*','Post')\n",
        "    clients.loc[:, 'Client_Type'] = clients.loc[:, 'Client_Type'].replace(['.*FARMA.*','.*HOSPITAL.*','.*CLINI.*'],'Hospital/Pharmacy', regex=True)\n",
        "    clients.loc[:, 'Client_Type'] = clients.loc[:, 'Client_Type'].replace(['.*CAFE.*','.*CREMERIA.*','.*DULCERIA.*',\\\n",
        "                                                        '.*REST.*','.*BURGER.*','.*TACO.*', '.*TORTA.*',\\\n",
        "                                                        '.*TAQUER.*','.*HOT DOG.*',\\\n",
        "                                                        '.*COMEDOR.*', '.*ERIA.*','.*BURGU.*'],'Eatery', regex=True)\n",
        "    clients.loc[:, 'Client_Type'] = clients.loc[:, 'Client_Type'].str.replace('.*SUPER.*','Supermarket')\n",
        "    clients.loc[:, 'Client_Type'] = clients.loc[:, 'Client_Type'].replace(['.*COMERCIAL.*','.*BODEGA.*','.*DEPOSITO.*',\\\n",
        "                                                            '.*ABARROTES.*','.*MERCADO.*','.*CAMBIO.*',\\\n",
        "                                                        '.*MARKET.*','.*MART .*','.*MINI .*',\\\n",
        "                                                        '.*PLAZA.*','.*MISC.*','.*ELEVEN.*','.*EXP.*',\\\n",
        "                                                         '.*SNACK.*', '.*PAPELERIA.*', '.*CARNICERIA.*',\\\n",
        "                                                         '.*LOCAL.*','.*COMODIN.*','.*PROVIDENCIA.*'\n",
        "                                                        ],'General Market/Mart'\\\n",
        "                                                       , regex=True)\n",
        "    clients.loc[:, 'Client_Type'] = clients.loc[:, 'Client_Type'].replace(['.*VERDU.*','.*FRUT.*'],'Fresh Market', regex=True)\n",
        "    clients.loc[:, 'Client_Type'] = clients.loc[:, 'Client_Type'].replace(['.*HOTEL.*','.*MOTEL.*'],'Hotel', regex=True)\n",
        "\n",
        "    # Filter participles\n",
        "    clients.loc[:, 'Client_Type'] = clients.loc[:, 'Client_Type'].replace([\n",
        "            '.*LA .*','.*EL .*','.*DE .*','.*LOS .*','.*DEL .*','.*Y .*', '.*SAN .*', '.*SANTA .*',\\\n",
        "            '.*AG .*','.*LAS .*','.*MI .*','.*MA .*', '.*II.*', '.*[0-9]+.*'\\\n",
        "                ],'Small Franchise', regex=True)\n",
        "\n",
        "    # Everything else bucketed into 'Individual'\n",
        "    def filter_remaining(clients):\n",
        "        def function_word(data):\n",
        "            # Avoid the single-words created so far by checking for upper-case\n",
        "            if (data.isupper()) and (data != \"NO IDENTIFICADO\"):\n",
        "                return 'Individual'\n",
        "            else:\n",
        "                return data\n",
        "        clients.loc[:, 'Client_Type'] = clients.loc[:, 'Client_Type'].map(function_word)\n",
        "    filter_remaining(clients)\n",
        "\n",
        "    return clients"
      ]
    },
    {
      "cell_type": "code",
      "execution_count": 23,
      "metadata": {
        "colab": {
          "base_uri": "https://localhost:8080/"
        },
        "id": "UOewm8G42uND",
        "outputId": "b9284be4-90ec-4c26-c2e6-3833d7542d3c"
      },
      "outputs": [
        {
          "output_type": "stream",
          "name": "stdout",
          "text": [
            "2. Generating new client features...\n",
            "Complete!\n",
            "   Cliente_ID                            NombreCliente      Client_Type\n",
            "0           0                               SIN NOMBRE       Individual\n",
            "1           1                         OXXO XINANTECATL       Individual\n",
            "2           2                               SIN NOMBRE       Individual\n",
            "3           3                                EL MORENO  Small Franchise\n",
            "4           4  SDN SER  DE ALIM  CUERPO SA CIA  DE INT  Small Franchise\n"
          ]
        }
      ],
      "source": [
        "print(\"2. Generating new client features...\")\n",
        "clients = create_client_features(clients)\n",
        "print(\"Complete!\")\n",
        "print(clients.head())"
      ]
    },
    {
      "cell_type": "markdown",
      "metadata": {
        "id": "HNAKotjD2uNE"
      },
      "source": [
        "### Create new product features: short_product_name, brand, weight, weight_per_piece"
      ]
    },
    {
      "cell_type": "code",
      "execution_count": 24,
      "metadata": {
        "collapsed": true,
        "id": "FT1NCyDa2uNE"
      },
      "outputs": [],
      "source": [
        "def create_product_features(products):\n",
        "    \"\"\" Takes products data as input and builds new features.\n",
        "        Returns modified products data.\n",
        "    \"\"\"\n",
        "    # Split NombreProducto and create new columns\n",
        "    products['short_name'] = products['NombreProducto'].str.extract('^(\\D*)', expand=False)\n",
        "    products['brand'] = products['NombreProducto'].str.extract('^.+\\s(\\D+) \\d+$', expand=False)\n",
        "    w = products['NombreProducto'].str.extract('(\\d+)(Kg|g)', expand=True)\n",
        "    products['weight'] = w[0].astype('float')*w[1].map({'Kg':1000, 'g':1})\n",
        "    products['pieces'] =  products['NombreProducto'].str.extract('(\\d+)p ', expand=False).astype('float')\n",
        "    products['weight_per_piece'] = products['weight'] / products['pieces']\n",
        "\n",
        "    products['short_product_name'] = (products['short_name']\n",
        "                                        .map(lambda x: \" \".join([i for i in x.lower()\n",
        "                                                                 .split() if i not in stopwords.words(\"spanish\")])))\n",
        "\n",
        "\n",
        "    products['short_product_name'] = (products['short_product_name']\n",
        "                                        .map(lambda x: \" \".join([stemmer.stem(i) for i in x.lower().split()])))\n",
        "\n",
        "    # Drop unnecessary variables\n",
        "    products = products.drop(['NombreProducto', 'short_name'], axis = 1)\n",
        "\n",
        "    return products"
      ]
    },
    {
      "cell_type": "code",
      "execution_count": 25,
      "metadata": {
        "colab": {
          "base_uri": "https://localhost:8080/"
        },
        "id": "OI52NLpB2uNE",
        "outputId": "ad3616a1-b349-4aad-e78c-b23362ba96b9"
      },
      "outputs": [
        {
          "output_type": "stream",
          "name": "stdout",
          "text": [
            "3. Generating new product features...\n",
            "Complete!\n",
            "   Producto_ID         brand  weight  pieces  weight_per_piece  \\\n",
            "0            0  IDENTIFICADO     NaN     NaN               NaN   \n",
            "1            9           NES   750.0     NaN               NaN   \n",
            "2           41           BIM   480.0     6.0             80.00   \n",
            "3           53           LON   170.0     NaN               NaN   \n",
            "4           72            TR    45.0     4.0             11.25   \n",
            "\n",
            "      short_product_name  \n",
            "0              identific  \n",
            "1           capuccin mok  \n",
            "2  bimboll ext sajonjoli  \n",
            "3           burrit sincr  \n",
            "4   div tir mini doradit  \n"
          ]
        }
      ],
      "source": [
        "print(\"3. Generating new product features...\")\n",
        "products = create_product_features(products)\n",
        "print(\"Complete!\")\n",
        "print(products.head())"
      ]
    },
    {
      "cell_type": "markdown",
      "metadata": {
        "id": "cXigthMm2uNE"
      },
      "source": [
        "### Write modified dataframes to CSV files"
      ]
    },
    {
      "cell_type": "code",
      "execution_count": 26,
      "metadata": {
        "colab": {
          "base_uri": "https://localhost:8080/"
        },
        "id": "X0q-JSyJ2uNE",
        "outputId": "7bbb0e09-a889-4036-a0f5-544e32e08b0b"
      },
      "outputs": [
        {
          "output_type": "stream",
          "name": "stdout",
          "text": [
            "4. Writing to CSV...\n",
            "Complete!\n"
          ]
        }
      ],
      "source": [
        "print(\"4. Writing to CSV...\")\n",
        "clients.to_csv(\"cliente_tabla_modified.csv\", index = False, header = True)\n",
        "products.to_csv(\"producto_tabla_modified.csv\", index = False, header = True)\n",
        "print(\"Complete!\")"
      ]
    },
    {
      "cell_type": "markdown",
      "metadata": {
        "collapsed": true,
        "id": "pJwYM-BL2uNE"
      },
      "source": [
        "### Process complete!"
      ]
    },
    {
      "cell_type": "markdown",
      "metadata": {
        "id": "wjSAxZq12uNE"
      },
      "source": [
        "# Build Model and Generate Predictions"
      ]
    },
    {
      "cell_type": "markdown",
      "metadata": {
        "id": "tFGpcPGq2uNE"
      },
      "source": [
        "### Load Necessary Packages"
      ]
    },
    {
      "cell_type": "code",
      "execution_count": 27,
      "metadata": {
        "collapsed": true,
        "id": "N1WbENHJ2uNE"
      },
      "outputs": [],
      "source": [
        "import os\n",
        "import time\n",
        "import random\n",
        "\n",
        "import numpy as np\n",
        "import pandas as pd\n",
        "import xgboost as xgb\n",
        "\n",
        "import matplotlib.pyplot as plt\n",
        "%matplotlib inline\n",
        "import re\n",
        "import gc"
      ]
    },
    {
      "cell_type": "markdown",
      "metadata": {
        "id": "8Jp3B-Km2uNF"
      },
      "source": [
        "### Create function for checking memory usage of dataframes"
      ]
    },
    {
      "cell_type": "code",
      "execution_count": 28,
      "metadata": {
        "collapsed": true,
        "id": "0ipQBdv_2uNF"
      },
      "outputs": [],
      "source": [
        "def check_memory_usage(data):\n",
        "    \"\"\" Takes DataFrame as input and returns memory usage statistics.\n",
        "    \"\"\"\n",
        "    print('')\n",
        "    print('Checking memory usage statistics... ')\n",
        "    print(data.info(memory_usage=True))"
      ]
    },
    {
      "cell_type": "markdown",
      "metadata": {
        "id": "yR8zKYNM2uNF"
      },
      "source": [
        "###  Create custom evaluation metric, Root Mean Log Squared Error (RMSLE)"
      ]
    },
    {
      "cell_type": "code",
      "execution_count": 29,
      "metadata": {
        "collapsed": true,
        "id": "CBKoEfj32uNF"
      },
      "outputs": [],
      "source": [
        "def RMSLE(actuals, predictions):\n",
        "    \"\"\" Takes true values and predictions. Returns their Root Mean Squared Logarithmic Error.\n",
        "    \"\"\"\n",
        "    result = 0.0\n",
        "    actuals = np.asarray(actuals) * 1.0\n",
        "    predictions = np.asarray(predictions)\n",
        "    if(len(actuals) == len(predictions)):\n",
        "        result = np.sqrt(sum(((np.log(predictions + 1.0) - np.log(actuals + 1.0)) ** 2) / len(actuals)))\n",
        "        return result\n",
        "    else:\n",
        "        return \"Error!\""
      ]
    },
    {
      "cell_type": "markdown",
      "metadata": {
        "id": "IZKYDPtc2uNF"
      },
      "source": [
        "### Set seed for reproducibility purposes"
      ]
    },
    {
      "cell_type": "code",
      "execution_count": 30,
      "metadata": {
        "collapsed": true,
        "id": "cckwrLfY2uNF"
      },
      "outputs": [],
      "source": [
        "random.seed(0)"
      ]
    },
    {
      "cell_type": "markdown",
      "metadata": {
        "id": "5-FDJ0TV2uNF"
      },
      "source": [
        "### Load the data"
      ]
    },
    {
      "cell_type": "code",
      "execution_count": 31,
      "metadata": {
        "collapsed": true,
        "id": "gT2eOfeB2uNF"
      },
      "outputs": [],
      "source": [
        "def load_data():\n",
        "    \"\"\" Loads and returns train and test data.\n",
        "    \"\"\"\n",
        "    # Set work directory\n",
        "#     os.chdir('D:/OneDrive/Documents/Kaggle/Grupo Bimbo Inventory Demand/data')\n",
        "\n",
        "    # Load data efficiently by setting numpy data types for variables\n",
        "    train_types = {\n",
        "         'Semana': np.uint8, 'Agencia_ID': np.uint16\n",
        "         , 'Canal_ID': np.uint8\n",
        "         , 'Ruta_SAK': np.uint16, 'Cliente_ID': np.uint32, 'Producto_ID': np.uint16\n",
        "         , 'Client_Type': np.uint32\n",
        "         , 'short_product_name': np.uint32, 'weight': np.float32, 'pieces': np.float32, 'weight_per_piece': np.float32\n",
        "         , 'Demanda_uni_equil': np.float16\n",
        "         , 'Demanda_uni_equil_tminus2': np.float16, 'Demanda_uni_equil_tminus3': np.float16\n",
        "         , 'Demanda_uni_equil_tminus4': np.float16, 'Demanda_uni_equil_tminus5': np.float16\n",
        "         , 'Agencia_ID_count': np.float32, 'Canal_ID_count': np.float32, 'Ruta_SAK_count': np.float32\n",
        "         , 'Cliente_ID_count': np.float32, 'Producto_ID_count': np.float32, 'Client_Type_count': np.float32\n",
        "         }\n",
        "\n",
        "    test_types = {\n",
        "         'Semana': np.uint8, 'Agencia_ID': np.uint16\n",
        "         , 'Canal_ID': np.uint8\n",
        "         , 'Ruta_SAK': np.uint16, 'Cliente_ID': np.uint32, 'Producto_ID': np.uint16\n",
        "         , 'Client_Type': np.uint32\n",
        "         , 'short_product_name': np.uint32, 'weight': np.float32, 'pieces': np.float32, 'weight_per_piece': np.float32\n",
        "         , 'Demanda_uni_equil_tminus2': np.float16, 'Demanda_uni_equil_tminus3': np.float16\n",
        "         , 'Demanda_uni_equil_tminus4': np.float16, 'Demanda_uni_equil_tminus5': np.float16\n",
        "         , 'Agencia_ID_count': np.float32, 'Canal_ID_count': np.float32, 'Ruta_SAK_count': np.float32\n",
        "         , 'Cliente_ID_count': np.float32, 'Producto_ID_count': np.float32, 'Client_Type_count': np.float32\n",
        "         }\n",
        "\n",
        "    train = pd.read_csv(\"./train_modified.csv\", sep = \",\", usecols = train_types.keys(), dtype = train_types)\n",
        "    test = pd.read_csv(\"./test_modified.csv\", sep = \",\", usecols = test_types.keys(), dtype = test_types)\n",
        "\n",
        "    return train, test"
      ]
    },
    {
      "cell_type": "code",
      "execution_count": 32,
      "metadata": {
        "colab": {
          "base_uri": "https://localhost:8080/"
        },
        "id": "jbRjopd02uNF",
        "outputId": "53c7855c-df45-4a29-d671-71de6739208a"
      },
      "outputs": [
        {
          "output_type": "stream",
          "name": "stdout",
          "text": [
            "1. Loading data...\n",
            "Complete!\n",
            "\n"
          ]
        }
      ],
      "source": [
        "print(\"1. Loading data...\")\n",
        "train, test = load_data()\n",
        "print(\"Complete!\")\n",
        "print('')\n",
        "# check_memory_usage(train)"
      ]
    },
    {
      "cell_type": "markdown",
      "metadata": {
        "id": "jv0aOtt-2uNG"
      },
      "source": [
        "### Prepare data for model fitting"
      ]
    },
    {
      "cell_type": "code",
      "execution_count": 33,
      "metadata": {
        "collapsed": true,
        "id": "MLuWCrsq2uNG"
      },
      "outputs": [],
      "source": [
        "def prepare_data(train, test, cv_index):\n",
        "    \"\"\" Divide train data into training data for model and a hold-out validation set\n",
        "        based on Semana value (can take 6, 7, 8, 9 as values).\n",
        "\n",
        "        Splits outcome variable from data for model.\n",
        "\n",
        "        Converts and returns dataframes as numpy matrices.\n",
        "    \"\"\"\n",
        "    # Reset data indices\n",
        "    train = train.reset_index(drop=True)\n",
        "    test = test.reset_index(drop=True)\n",
        "\n",
        "    # Get CV indices from train (Semana == cv_index)\n",
        "    cv_indices = train[train['Semana'] == cv_index].index\n",
        "    train_indices = train[train['Semana'] != cv_index].index\n",
        "\n",
        "    # Data for model building\n",
        "    column_names = list(train.drop(['Demanda_uni_equil'], axis = 1).columns)\n",
        "    y_train = train.loc[train_indices, 'Demanda_uni_equil'].values\n",
        "    X_train = train.loc[train_indices, :].drop(['Demanda_uni_equil'], axis = 1).values\n",
        "    y_validation = train.loc[cv_indices, 'Demanda_uni_equil'].values\n",
        "    X_validation = train.loc[cv_indices, :].drop(['Demanda_uni_equil'], axis = 1).values\n",
        "\n",
        "    # Return data\n",
        "    return y_train, X_train, y_validation, X_validation, column_names"
      ]
    },
    {
      "cell_type": "code",
      "execution_count": 34,
      "metadata": {
        "colab": {
          "base_uri": "https://localhost:8080/"
        },
        "id": "gPIEdhnJ2uNG",
        "outputId": "cd02c94f-6b90-4c1d-838e-adfbac4eab1e"
      },
      "outputs": [
        {
          "output_type": "stream",
          "name": "stdout",
          "text": [
            "2. Preparing data for model building...\n",
            "Complete!\n"
          ]
        }
      ],
      "source": [
        "print(\"2. Preparing data for model building...\")\n",
        "cv_index = 9\n",
        "y_train, X_train, y_validation, X_validation, column_names = prepare_data(train, test, cv_index)\n",
        "\n",
        "# Remove original train data sets from memory\n",
        "del train\n",
        "gc.collect()\n",
        "\n",
        "print(\"Complete!\")"
      ]
    },
    {
      "cell_type": "markdown",
      "metadata": {
        "id": "5nRysqUn2uNG"
      },
      "source": [
        "### Define XGBOOST model and parameters"
      ]
    },
    {
      "cell_type": "code",
      "execution_count": 35,
      "metadata": {
        "colab": {
          "base_uri": "https://localhost:8080/",
          "height": 266
        },
        "id": "iqLKaBCa2uNG",
        "outputId": "ba0f5b6a-73a5-486d-ed30-54e034d4448c"
      },
      "outputs": [
        {
          "output_type": "stream",
          "name": "stdout",
          "text": [
            "3. Create model and define parameters...\n"
          ]
        },
        {
          "output_type": "execute_result",
          "data": {
            "text/plain": [
              "XGBRegressor(base_score=None, booster='gbtree', callbacks=None,\n",
              "             colsample_bylevel=None, colsample_bynode=None,\n",
              "             colsample_bytree=None, device=None, early_stopping_rounds=None,\n",
              "             enable_categorical=False, eval_metric=None, feature_types=None,\n",
              "             gamma=None, grow_policy=None, importance_type=None,\n",
              "             interaction_constraints=None, learning_rate=0.26, max_bin=None,\n",
              "             max_cat_threshold=None, max_cat_to_onehot=None,\n",
              "             max_delta_step=None, max_depth=12, max_leaves=None,\n",
              "             min_child_weight=None, missing=nan, monotone_constraints=None,\n",
              "             multi_strategy=None, n_estimators=100, n_jobs=None,\n",
              "             num_parallel_tree=None, objective='reg:linear', ...)"
            ],
            "text/html": [
              "<style>#sk-container-id-1 {color: black;background-color: white;}#sk-container-id-1 pre{padding: 0;}#sk-container-id-1 div.sk-toggleable {background-color: white;}#sk-container-id-1 label.sk-toggleable__label {cursor: pointer;display: block;width: 100%;margin-bottom: 0;padding: 0.3em;box-sizing: border-box;text-align: center;}#sk-container-id-1 label.sk-toggleable__label-arrow:before {content: \"▸\";float: left;margin-right: 0.25em;color: #696969;}#sk-container-id-1 label.sk-toggleable__label-arrow:hover:before {color: black;}#sk-container-id-1 div.sk-estimator:hover label.sk-toggleable__label-arrow:before {color: black;}#sk-container-id-1 div.sk-toggleable__content {max-height: 0;max-width: 0;overflow: hidden;text-align: left;background-color: #f0f8ff;}#sk-container-id-1 div.sk-toggleable__content pre {margin: 0.2em;color: black;border-radius: 0.25em;background-color: #f0f8ff;}#sk-container-id-1 input.sk-toggleable__control:checked~div.sk-toggleable__content {max-height: 200px;max-width: 100%;overflow: auto;}#sk-container-id-1 input.sk-toggleable__control:checked~label.sk-toggleable__label-arrow:before {content: \"▾\";}#sk-container-id-1 div.sk-estimator input.sk-toggleable__control:checked~label.sk-toggleable__label {background-color: #d4ebff;}#sk-container-id-1 div.sk-label input.sk-toggleable__control:checked~label.sk-toggleable__label {background-color: #d4ebff;}#sk-container-id-1 input.sk-hidden--visually {border: 0;clip: rect(1px 1px 1px 1px);clip: rect(1px, 1px, 1px, 1px);height: 1px;margin: -1px;overflow: hidden;padding: 0;position: absolute;width: 1px;}#sk-container-id-1 div.sk-estimator {font-family: monospace;background-color: #f0f8ff;border: 1px dotted black;border-radius: 0.25em;box-sizing: border-box;margin-bottom: 0.5em;}#sk-container-id-1 div.sk-estimator:hover {background-color: #d4ebff;}#sk-container-id-1 div.sk-parallel-item::after {content: \"\";width: 100%;border-bottom: 1px solid gray;flex-grow: 1;}#sk-container-id-1 div.sk-label:hover label.sk-toggleable__label {background-color: #d4ebff;}#sk-container-id-1 div.sk-serial::before {content: \"\";position: absolute;border-left: 1px solid gray;box-sizing: border-box;top: 0;bottom: 0;left: 50%;z-index: 0;}#sk-container-id-1 div.sk-serial {display: flex;flex-direction: column;align-items: center;background-color: white;padding-right: 0.2em;padding-left: 0.2em;position: relative;}#sk-container-id-1 div.sk-item {position: relative;z-index: 1;}#sk-container-id-1 div.sk-parallel {display: flex;align-items: stretch;justify-content: center;background-color: white;position: relative;}#sk-container-id-1 div.sk-item::before, #sk-container-id-1 div.sk-parallel-item::before {content: \"\";position: absolute;border-left: 1px solid gray;box-sizing: border-box;top: 0;bottom: 0;left: 50%;z-index: -1;}#sk-container-id-1 div.sk-parallel-item {display: flex;flex-direction: column;z-index: 1;position: relative;background-color: white;}#sk-container-id-1 div.sk-parallel-item:first-child::after {align-self: flex-end;width: 50%;}#sk-container-id-1 div.sk-parallel-item:last-child::after {align-self: flex-start;width: 50%;}#sk-container-id-1 div.sk-parallel-item:only-child::after {width: 0;}#sk-container-id-1 div.sk-dashed-wrapped {border: 1px dashed gray;margin: 0 0.4em 0.5em 0.4em;box-sizing: border-box;padding-bottom: 0.4em;background-color: white;}#sk-container-id-1 div.sk-label label {font-family: monospace;font-weight: bold;display: inline-block;line-height: 1.2em;}#sk-container-id-1 div.sk-label-container {text-align: center;}#sk-container-id-1 div.sk-container {/* jupyter's `normalize.less` sets `[hidden] { display: none; }` but bootstrap.min.css set `[hidden] { display: none !important; }` so we also need the `!important` here to be able to override the default hidden behavior on the sphinx rendered scikit-learn.org. See: https://github.com/scikit-learn/scikit-learn/issues/21755 */display: inline-block !important;position: relative;}#sk-container-id-1 div.sk-text-repr-fallback {display: none;}</style><div id=\"sk-container-id-1\" class=\"sk-top-container\"><div class=\"sk-text-repr-fallback\"><pre>XGBRegressor(base_score=None, booster=&#x27;gbtree&#x27;, callbacks=None,\n",
              "             colsample_bylevel=None, colsample_bynode=None,\n",
              "             colsample_bytree=None, device=None, early_stopping_rounds=None,\n",
              "             enable_categorical=False, eval_metric=None, feature_types=None,\n",
              "             gamma=None, grow_policy=None, importance_type=None,\n",
              "             interaction_constraints=None, learning_rate=0.26, max_bin=None,\n",
              "             max_cat_threshold=None, max_cat_to_onehot=None,\n",
              "             max_delta_step=None, max_depth=12, max_leaves=None,\n",
              "             min_child_weight=None, missing=nan, monotone_constraints=None,\n",
              "             multi_strategy=None, n_estimators=100, n_jobs=None,\n",
              "             num_parallel_tree=None, objective=&#x27;reg:linear&#x27;, ...)</pre><b>In a Jupyter environment, please rerun this cell to show the HTML representation or trust the notebook. <br />On GitHub, the HTML representation is unable to render, please try loading this page with nbviewer.org.</b></div><div class=\"sk-container\" hidden><div class=\"sk-item\"><div class=\"sk-estimator sk-toggleable\"><input class=\"sk-toggleable__control sk-hidden--visually\" id=\"sk-estimator-id-1\" type=\"checkbox\" checked><label for=\"sk-estimator-id-1\" class=\"sk-toggleable__label sk-toggleable__label-arrow\">XGBRegressor</label><div class=\"sk-toggleable__content\"><pre>XGBRegressor(base_score=None, booster=&#x27;gbtree&#x27;, callbacks=None,\n",
              "             colsample_bylevel=None, colsample_bynode=None,\n",
              "             colsample_bytree=None, device=None, early_stopping_rounds=None,\n",
              "             enable_categorical=False, eval_metric=None, feature_types=None,\n",
              "             gamma=None, grow_policy=None, importance_type=None,\n",
              "             interaction_constraints=None, learning_rate=0.26, max_bin=None,\n",
              "             max_cat_threshold=None, max_cat_to_onehot=None,\n",
              "             max_delta_step=None, max_depth=12, max_leaves=None,\n",
              "             min_child_weight=None, missing=nan, monotone_constraints=None,\n",
              "             multi_strategy=None, n_estimators=100, n_jobs=None,\n",
              "             num_parallel_tree=None, objective=&#x27;reg:linear&#x27;, ...)</pre></div></div></div></div></div>"
            ]
          },
          "metadata": {},
          "execution_count": 35
        }
      ],
      "source": [
        "print(\"3. Create model and define parameters...\")\n",
        "xgb_params = {\n",
        "             'objective': 'reg:linear'\n",
        "             , 'n_estimators': 100\n",
        "             , 'learning_rate': 0.26\n",
        "             , 'max_depth': 12\n",
        "             , 'seed': 0\n",
        "             , 'booster': 'gbtree'\n",
        "             }\n",
        "model_xgb = xgb.XGBRegressor()\n",
        "model_xgb.set_params(**xgb_params)"
      ]
    },
    {
      "cell_type": "markdown",
      "metadata": {
        "id": "XuFQ1xIF2uNG"
      },
      "source": [
        "### Create function to plot XGBOOST learning curves during fitting process"
      ]
    },
    {
      "cell_type": "code",
      "execution_count": 36,
      "metadata": {
        "collapsed": true,
        "id": "1Bomn1lq2uNG"
      },
      "outputs": [],
      "source": [
        "def plot_learning_curves(model_xgb):\n",
        "    \"\"\" Takes XGBOOST model fit on data.\n",
        "        Plots train and validation RMSE for each iteration of model.\n",
        "    \"\"\"\n",
        "    # Retrieve model performance metrics\n",
        "    results = model_xgb.evals_result()\n",
        "    epochs = len(results['validation_0']['rmse'])\n",
        "    x_axis = range(0, epochs)\n",
        "\n",
        "    # Plot RMSE\n",
        "    fig, ax = plt.subplots()\n",
        "    ax.plot(x_axis, results['validation_0']['rmse'], label='Train')\n",
        "    ax.plot(x_axis, results['validation_1']['rmse'], label='Test')\n",
        "    ax.legend()\n",
        "    plt.ylabel('RMSE')\n",
        "    plt.title('XGBoost RMSE Performance')\n",
        "    plt.show()"
      ]
    },
    {
      "cell_type": "markdown",
      "metadata": {
        "id": "KJ9JDNxH2uNG"
      },
      "source": [
        "### Create function to display XGBOOST feature importance scores"
      ]
    },
    {
      "cell_type": "code",
      "execution_count": 37,
      "metadata": {
        "collapsed": true,
        "id": "lbx41DnJ2uNG"
      },
      "outputs": [],
      "source": [
        "def feature_importance_scores(model_xgb, column_names, cv_index, cv_score):\n",
        "    \"\"\" Takes fit XGBOOST model, column names, validation set index, and validation RMSLE score as inputs.\n",
        "        Plot and saves XGBOOST feature importance scores.\n",
        "    \"\"\"\n",
        "    # Create dataframe of feature importance scores\n",
        "    fscore = model_xgb.get_booster().get_fscore()\n",
        "    feature_importances = []\n",
        "    for ft, score in fscore.items():  # Use .items() instead of .iteritems()\n",
        "        ft = column_names[int(re.sub(\"[^0-9]\", \"\", ft))]\n",
        "        feature_importances.append({'Feature': ft, 'Importance': score})\n",
        "    feature_importances = pd.DataFrame(feature_importances)\n",
        "    feature_importances = feature_importances.sort_values(by='Importance', ascending=False).reset_index(drop=True)\n",
        "    feature_importances['Importance'] = feature_importances['Importance'] / feature_importances['Importance'].sum()\n",
        "\n",
        "    feature_names = feature_importances['Feature']\n",
        "    importances = feature_importances['Importance']\n",
        "    y_pos = np.asarray(range(len(feature_names), 0, -1))\n",
        "\n",
        "    # Plot scores\n",
        "    plt.barh(y_pos, importances, align = 'center', alpha = 1.0)\n",
        "    plt.yticks(y_pos, feature_names)\n",
        "    plt.xlabel('Scores')\n",
        "    plt.title('Feature Importance Scores')\n",
        "\n",
        "    # Save to file\n",
        "    # os.chdir('D:/OneDrive/Documents/Kaggle/Grupo Bimbo Inventory Demand/schema')\n",
        "    plt.savefig('feature_importances_xgb_' + '_' + 'Semana_' + str(cv_index) + '_' + 'cv_score_' + str(round(cv_score, 4)) + '_' + 'LB_score_' + '.png')\n",
        "    # os.chdir('D:/OneDrive/Documents/Kaggle/Grupo Bimbo Inventory Demand/data')\n",
        "\n",
        "    # Display plot\n",
        "    plt.show()\n",
        "\n",
        "    return feature_importances"
      ]
    },
    {
      "cell_type": "markdown",
      "metadata": {
        "id": "d64OT7FG2uNH"
      },
      "source": [
        "### Fit XGBOOST model to data"
      ]
    },
    {
      "cell_type": "code",
      "execution_count": 38,
      "metadata": {
        "collapsed": true,
        "id": "hH5YvGuu2uNH"
      },
      "outputs": [],
      "source": [
        "def fit_model_xgb(model, y_train, X_train, y_validation, X_validation, column_names):\n",
        "    \"\"\" Takes XGBOOST model, all data sets excluding test, and data column names as inputs.\n",
        "        Fits XGBOOST model on train data and checks RMSLE score on validation data.\n",
        "    \"\"\"\n",
        "    # Start timer\n",
        "    start = time.time()\n",
        "\n",
        "    # Build predictive model\n",
        "    print(\"Fitting predictive model...\")\n",
        "    model.fit(X_train, np.log1p(y_train)\n",
        "            , eval_set = [(X_train, y_train), (X_validation, y_validation)]\n",
        "            , eval_metric = \"rmse\"\n",
        "            , early_stopping_rounds = 5)\n",
        "    print(\"Model fitting complete!!!\")\n",
        "\n",
        "    # Generate and print CV RMSLE score: ....\n",
        "    preds_validation = np.expm1(model.predict(X_validation))\n",
        "    cv_score = RMSLE(y_validation, preds_validation)\n",
        "    print(\"Validation Score (RMSLE): \"+ str(round(cv_score, 4)))\n",
        "\n",
        "    # Plot learning curves\n",
        "    plot_learning_curves(model)\n",
        "    print('')\n",
        "\n",
        "    # Plot and save feature importance scores\n",
        "    feature_importances = feature_importance_scores(model, column_names, cv_index, cv_score)\n",
        "    print(feature_importances)\n",
        "    print ('')\n",
        "\n",
        "    # Calculate time elapsed\n",
        "    end = time.time()\n",
        "    time_elapsed = (end - start)\n",
        "\n",
        "    # Print completion messages\n",
        "    print(\"Model building complete!\")\n",
        "    print(\"Time Elapsed: \" + str(time_elapsed) + \" seconds\")\n",
        "\n",
        "    return model, cv_score, feature_importances, time_elapsed"
      ]
    },
    {
      "cell_type": "code",
      "execution_count": 39,
      "metadata": {
        "colab": {
          "base_uri": "https://localhost:8080/",
          "height": 1000
        },
        "id": "Dfgq6GYc2uNH",
        "outputId": "8783e135-6297-4211-cd93-64e04eca1667"
      },
      "outputs": [
        {
          "output_type": "stream",
          "name": "stdout",
          "text": [
            "4. Fitting data to model...\n",
            "Fitting predictive model...\n"
          ]
        },
        {
          "output_type": "stream",
          "name": "stderr",
          "text": [
            "/usr/local/lib/python3.10/dist-packages/xgboost/sklearn.py:889: UserWarning: `eval_metric` in `fit` method is deprecated for better compatibility with scikit-learn, use `eval_metric` in constructor or`set_params` instead.\n",
            "  warnings.warn(\n",
            "/usr/local/lib/python3.10/dist-packages/xgboost/sklearn.py:889: UserWarning: `early_stopping_rounds` in `fit` method is deprecated for better compatibility with scikit-learn, use `early_stopping_rounds` in constructor or`set_params` instead.\n",
            "  warnings.warn(\n",
            "/usr/local/lib/python3.10/dist-packages/xgboost/core.py:160: UserWarning: [21:40:31] WARNING: /workspace/src/objective/regression_obj.cu:209: reg:linear is now deprecated in favor of reg:squarederror.\n",
            "  warnings.warn(smsg, UserWarning)\n"
          ]
        },
        {
          "output_type": "stream",
          "name": "stdout",
          "text": [
            "[0]\tvalidation_0-rmse:22.44208\tvalidation_1-rmse:22.51869\n",
            "[1]\tvalidation_0-rmse:22.37514\tvalidation_1-rmse:22.45266\n",
            "[2]\tvalidation_0-rmse:22.32557\tvalidation_1-rmse:22.40397\n",
            "[3]\tvalidation_0-rmse:22.28865\tvalidation_1-rmse:22.36784\n",
            "[4]\tvalidation_0-rmse:22.26119\tvalidation_1-rmse:22.34074\n",
            "[5]\tvalidation_0-rmse:22.24082\tvalidation_1-rmse:22.32099\n",
            "[6]\tvalidation_0-rmse:22.22546\tvalidation_1-rmse:22.30602\n",
            "[7]\tvalidation_0-rmse:22.21404\tvalidation_1-rmse:22.29502\n",
            "[8]\tvalidation_0-rmse:22.20531\tvalidation_1-rmse:22.28675\n",
            "[9]\tvalidation_0-rmse:22.19868\tvalidation_1-rmse:22.28054\n",
            "[10]\tvalidation_0-rmse:22.19364\tvalidation_1-rmse:22.27590\n",
            "[11]\tvalidation_0-rmse:22.18957\tvalidation_1-rmse:22.27209\n",
            "[12]\tvalidation_0-rmse:22.18651\tvalidation_1-rmse:22.26933\n",
            "[13]\tvalidation_0-rmse:22.18409\tvalidation_1-rmse:22.26723\n",
            "[14]\tvalidation_0-rmse:22.18233\tvalidation_1-rmse:22.26574\n",
            "[15]\tvalidation_0-rmse:22.18096\tvalidation_1-rmse:22.26454\n",
            "[16]\tvalidation_0-rmse:22.17967\tvalidation_1-rmse:22.26340\n",
            "[17]\tvalidation_0-rmse:22.17866\tvalidation_1-rmse:22.26270\n",
            "[18]\tvalidation_0-rmse:22.17774\tvalidation_1-rmse:22.26185\n",
            "[19]\tvalidation_0-rmse:22.17700\tvalidation_1-rmse:22.26140\n",
            "[20]\tvalidation_0-rmse:22.17649\tvalidation_1-rmse:22.26100\n",
            "[21]\tvalidation_0-rmse:22.17594\tvalidation_1-rmse:22.26066\n",
            "[22]\tvalidation_0-rmse:22.17529\tvalidation_1-rmse:22.26012\n",
            "[23]\tvalidation_0-rmse:22.17488\tvalidation_1-rmse:22.25979\n",
            "[24]\tvalidation_0-rmse:22.17446\tvalidation_1-rmse:22.25955\n",
            "[25]\tvalidation_0-rmse:22.17419\tvalidation_1-rmse:22.25934\n",
            "[26]\tvalidation_0-rmse:22.17388\tvalidation_1-rmse:22.25919\n",
            "[27]\tvalidation_0-rmse:22.17352\tvalidation_1-rmse:22.25900\n",
            "[28]\tvalidation_0-rmse:22.17324\tvalidation_1-rmse:22.25877\n",
            "[29]\tvalidation_0-rmse:22.17301\tvalidation_1-rmse:22.25859\n",
            "[30]\tvalidation_0-rmse:22.17288\tvalidation_1-rmse:22.25850\n",
            "[31]\tvalidation_0-rmse:22.17277\tvalidation_1-rmse:22.25841\n",
            "[32]\tvalidation_0-rmse:22.17257\tvalidation_1-rmse:22.25835\n",
            "[33]\tvalidation_0-rmse:22.17225\tvalidation_1-rmse:22.25804\n",
            "[34]\tvalidation_0-rmse:22.17211\tvalidation_1-rmse:22.25792\n",
            "[35]\tvalidation_0-rmse:22.17197\tvalidation_1-rmse:22.25781\n",
            "[36]\tvalidation_0-rmse:22.17183\tvalidation_1-rmse:22.25776\n",
            "[37]\tvalidation_0-rmse:22.17166\tvalidation_1-rmse:22.25770\n",
            "[38]\tvalidation_0-rmse:22.17142\tvalidation_1-rmse:22.25765\n",
            "[39]\tvalidation_0-rmse:22.17135\tvalidation_1-rmse:22.25764\n",
            "[40]\tvalidation_0-rmse:22.17117\tvalidation_1-rmse:22.25754\n",
            "[41]\tvalidation_0-rmse:22.17095\tvalidation_1-rmse:22.25740\n",
            "[42]\tvalidation_0-rmse:22.17085\tvalidation_1-rmse:22.25737\n",
            "[43]\tvalidation_0-rmse:22.17073\tvalidation_1-rmse:22.25734\n",
            "[44]\tvalidation_0-rmse:22.17055\tvalidation_1-rmse:22.25723\n",
            "[45]\tvalidation_0-rmse:22.17048\tvalidation_1-rmse:22.25724\n",
            "[46]\tvalidation_0-rmse:22.17044\tvalidation_1-rmse:22.25728\n",
            "[47]\tvalidation_0-rmse:22.17029\tvalidation_1-rmse:22.25716\n",
            "[48]\tvalidation_0-rmse:22.17019\tvalidation_1-rmse:22.25718\n",
            "[49]\tvalidation_0-rmse:22.16996\tvalidation_1-rmse:22.25699\n",
            "[50]\tvalidation_0-rmse:22.16989\tvalidation_1-rmse:22.25698\n",
            "[51]\tvalidation_0-rmse:22.16982\tvalidation_1-rmse:22.25691\n",
            "[52]\tvalidation_0-rmse:22.16973\tvalidation_1-rmse:22.25689\n",
            "[53]\tvalidation_0-rmse:22.16970\tvalidation_1-rmse:22.25689\n",
            "[54]\tvalidation_0-rmse:22.16963\tvalidation_1-rmse:22.25685\n",
            "[55]\tvalidation_0-rmse:22.16944\tvalidation_1-rmse:22.25672\n",
            "[56]\tvalidation_0-rmse:22.16938\tvalidation_1-rmse:22.25676\n",
            "[57]\tvalidation_0-rmse:22.16930\tvalidation_1-rmse:22.25678\n",
            "[58]\tvalidation_0-rmse:22.16923\tvalidation_1-rmse:22.25675\n",
            "[59]\tvalidation_0-rmse:22.16914\tvalidation_1-rmse:22.25673\n",
            "[60]\tvalidation_0-rmse:22.16906\tvalidation_1-rmse:22.25668\n",
            "[61]\tvalidation_0-rmse:22.16888\tvalidation_1-rmse:22.25657\n",
            "[62]\tvalidation_0-rmse:22.16879\tvalidation_1-rmse:22.25654\n",
            "[63]\tvalidation_0-rmse:22.16873\tvalidation_1-rmse:22.25652\n",
            "[64]\tvalidation_0-rmse:22.16863\tvalidation_1-rmse:22.25648\n",
            "[65]\tvalidation_0-rmse:22.16853\tvalidation_1-rmse:22.25644\n",
            "[66]\tvalidation_0-rmse:22.16842\tvalidation_1-rmse:22.25638\n",
            "[67]\tvalidation_0-rmse:22.16832\tvalidation_1-rmse:22.25634\n",
            "[68]\tvalidation_0-rmse:22.16825\tvalidation_1-rmse:22.25630\n",
            "[69]\tvalidation_0-rmse:22.16817\tvalidation_1-rmse:22.25626\n",
            "[70]\tvalidation_0-rmse:22.16805\tvalidation_1-rmse:22.25622\n",
            "[71]\tvalidation_0-rmse:22.16799\tvalidation_1-rmse:22.25620\n",
            "[72]\tvalidation_0-rmse:22.16790\tvalidation_1-rmse:22.25616\n",
            "[73]\tvalidation_0-rmse:22.16786\tvalidation_1-rmse:22.25614\n",
            "[74]\tvalidation_0-rmse:22.16774\tvalidation_1-rmse:22.25605\n",
            "[75]\tvalidation_0-rmse:22.16767\tvalidation_1-rmse:22.25605\n",
            "[76]\tvalidation_0-rmse:22.16760\tvalidation_1-rmse:22.25603\n",
            "[77]\tvalidation_0-rmse:22.16757\tvalidation_1-rmse:22.25604\n",
            "[78]\tvalidation_0-rmse:22.16748\tvalidation_1-rmse:22.25597\n",
            "[79]\tvalidation_0-rmse:22.16743\tvalidation_1-rmse:22.25596\n",
            "[80]\tvalidation_0-rmse:22.16732\tvalidation_1-rmse:22.25592\n",
            "[81]\tvalidation_0-rmse:22.16725\tvalidation_1-rmse:22.25590\n",
            "[82]\tvalidation_0-rmse:22.16719\tvalidation_1-rmse:22.25589\n",
            "[83]\tvalidation_0-rmse:22.16711\tvalidation_1-rmse:22.25584\n",
            "[84]\tvalidation_0-rmse:22.16704\tvalidation_1-rmse:22.25578\n",
            "[85]\tvalidation_0-rmse:22.16695\tvalidation_1-rmse:22.25575\n",
            "[86]\tvalidation_0-rmse:22.16691\tvalidation_1-rmse:22.25576\n",
            "[87]\tvalidation_0-rmse:22.16684\tvalidation_1-rmse:22.25572\n",
            "[88]\tvalidation_0-rmse:22.16672\tvalidation_1-rmse:22.25565\n",
            "[89]\tvalidation_0-rmse:22.16663\tvalidation_1-rmse:22.25569\n",
            "[90]\tvalidation_0-rmse:22.16657\tvalidation_1-rmse:22.25565\n",
            "[91]\tvalidation_0-rmse:22.16650\tvalidation_1-rmse:22.25573\n",
            "[92]\tvalidation_0-rmse:22.16642\tvalidation_1-rmse:22.25567\n",
            "[93]\tvalidation_0-rmse:22.16637\tvalidation_1-rmse:22.25566\n",
            "Model fitting complete!!!\n",
            "Validation Score (RMSLE): 0.4663\n"
          ]
        },
        {
          "output_type": "display_data",
          "data": {
            "text/plain": [
              "<Figure size 640x480 with 1 Axes>"
            ],
            "image/png": "[encoded data removed]"
          },
          "metadata": {}
        },
        {
          "output_type": "stream",
          "name": "stdout",
          "text": [
            "\n"
          ]
        },
        {
          "output_type": "display_data",
          "data": {
            "text/plain": [
              "<Figure size 640x480 with 1 Axes>"
            ],
            "image/png": "[encoded data removed]"
          },
          "metadata": {}
        },
        {
          "output_type": "stream",
          "name": "stdout",
          "text": [
            "                      Feature  Importance\n",
            "0            Cliente_ID_count    0.096735\n",
            "1                  Agencia_ID    0.095680\n",
            "2                  Cliente_ID    0.084257\n",
            "3              Ruta_SAK_count    0.076201\n",
            "4                    Ruta_SAK    0.075040\n",
            "5            Agencia_ID_count    0.067628\n",
            "6   Demanda_uni_equil_tminus2    0.061383\n",
            "7   Demanda_uni_equil_tminus3    0.055593\n",
            "8                 Producto_ID    0.052350\n",
            "9   Demanda_uni_equil_tminus4    0.047232\n",
            "10                     weight    0.044061\n",
            "11         short_product_name    0.043759\n",
            "12          Producto_ID_count    0.042325\n",
            "13                     Semana    0.032417\n",
            "14  Demanda_uni_equil_tminus5    0.030419\n",
            "15           weight_per_piece    0.027140\n",
            "16                     pieces    0.019868\n",
            "17                Client_Type    0.018863\n",
            "18          Client_Type_count    0.012512\n",
            "19                   Canal_ID    0.010748\n",
            "20             Canal_ID_count    0.005791\n",
            "\n",
            "Model building complete!\n",
            "Time Elapsed: 671.4620883464813 seconds\n",
            "Complete!\n"
          ]
        }
      ],
      "source": [
        "print(\"4. Fitting data to model...\")\n",
        "model_xgb, cv_score, feature_importances, time_elapsed = fit_model_xgb(model_xgb, y_train, X_train, y_validation, X_validation, column_names)\n",
        "print(\"Complete!\")"
      ]
    },
    {
      "cell_type": "markdown",
      "metadata": {
        "id": "5a7Em8_p2uNH"
      },
      "source": [
        "### Generate predictions for test data"
      ]
    },
    {
      "cell_type": "code",
      "execution_count": 40,
      "metadata": {
        "collapsed": true,
        "id": "7Q-BZtw-2uNH"
      },
      "outputs": [],
      "source": [
        "def generate_test_predictions(model, test):\n",
        "    \"\"\" Takes fit XGBOOST model and test data as inputs.\n",
        "        Generates and returns model predictions on test data.\n",
        "    \"\"\"\n",
        "    predictions = np.expm1(model.predict(test.values))\n",
        "    return predictions"
      ]
    },
    {
      "cell_type": "code",
      "execution_count": 41,
      "metadata": {
        "colab": {
          "base_uri": "https://localhost:8080/"
        },
        "id": "UIUAYiwQ2uNH",
        "outputId": "21353c8b-fd31-48f7-bd0b-93763ee6935a"
      },
      "outputs": [
        {
          "output_type": "stream",
          "name": "stdout",
          "text": [
            "5. Generating test set predictions...\n",
            "Complete!\n"
          ]
        }
      ],
      "source": [
        "print(\"5. Generating test set predictions...\")\n",
        "test_predictions = generate_test_predictions(model_xgb, test)\n",
        "print(\"Complete!\")"
      ]
    },
    {
      "cell_type": "markdown",
      "metadata": {
        "id": "7O1Br2yX2uNH"
      },
      "source": [
        "### Write predictions to CSV"
      ]
    },
    {
      "cell_type": "code",
      "execution_count": 42,
      "metadata": {
        "collapsed": true,
        "id": "7TslAsb52uNH"
      },
      "outputs": [],
      "source": [
        "def generate_submission_CSV_predictions(predictions, cv_score, model_name, cv_index):\n",
        "    \"\"\" Takes predictions, validation RMSLE score, string of model name, and index used for validation set as inputs.\n",
        "        Writes test predictions to CSV file.\n",
        "    \"\"\"\n",
        "    # Create dataframe with test predictions\n",
        "    df = pd.DataFrame(predictions, dtype = float, columns = ['Demanda_uni_equil'])\n",
        "\n",
        "    # Write to csv\n",
        "    # os.chdir('D:/OneDrive/Documents/Kaggle/Grupo Bimbo Inventory Demand/submissions')\n",
        "    df.sort_values(by='Demanda_uni_equil', ascending=False, inplace=True)\n",
        "    name = 'submission_' + model_name + '_' + 'Semana_' + str(cv_index) + '_' + 'cv_score_' + str(round(cv_score, 4)) + '_' + 'LB_score_' + '.csv'\n",
        "    df.to_csv(name, index = True, header = True, index_label = 'id')\n",
        "    # os.chdir('D:/OneDrive/Documents/Kaggle/Grupo Bimbo Inventory Demand/data')"
      ]
    },
    {
      "cell_type": "code",
      "execution_count": 43,
      "metadata": {
        "colab": {
          "base_uri": "https://localhost:8080/"
        },
        "id": "8pVtF3q32uNI",
        "outputId": "2a338f35-f058-40fa-a0c0-20ff6445893f"
      },
      "outputs": [
        {
          "output_type": "stream",
          "name": "stdout",
          "text": [
            "6. Writing predictions to CSV...\n"
          ]
        }
      ],
      "source": [
        "print(\"6. Writing predictions to CSV...\")\n",
        "generate_submission_CSV_predictions(test_predictions, cv_score, model_name = 'xgb', cv_index = cv_index)"
      ]
    },
    {
      "cell_type": "markdown",
      "metadata": {
        "id": "xqwcTxdF2uNI"
      },
      "source": [
        "### Process complete!"
      ]
    },
    {
      "cell_type": "code",
      "execution_count": 44,
      "metadata": {
        "id": "06mwO1Cd2uNI"
      },
      "outputs": [],
      "source": [
        "import pickle\n",
        "model_filename = 'xgboost_model.pkl'\n",
        "with open(model_filename, 'wb') as file:\n",
        "    pickle.dump(model_xgb, file)"
      ]
    },
    {
      "cell_type": "code",
      "execution_count": 45,
      "metadata": {
        "colab": {
          "base_uri": "https://localhost:8080/"
        },
        "id": "vF4_jTmK2uNI",
        "outputId": "bf95b3ff-b870-4eb7-c646-03cae278b1b0"
      },
      "outputs": [
        {
          "output_type": "stream",
          "name": "stdout",
          "text": [
            "Complete!\n"
          ]
        },
        {
          "output_type": "execute_result",
          "data": {
            "text/plain": [
              "array([3.855903 , 1.4700379, 2.0180395, ..., 2.550163 , 3.0261917,\n",
              "       1.1600741], dtype=float32)"
            ]
          },
          "metadata": {},
          "execution_count": 45
        }
      ],
      "source": [
        "with open(model_filename, 'rb') as file:\n",
        "    model_pickle = pickle.load(file)\n",
        "\n",
        "test_predictions_model = generate_test_predictions(model_pickle, test)\n",
        "print(\"Complete!\")\n",
        "test_predictions_model"
      ]
    },
    {
      "cell_type": "code",
      "execution_count": 46,
      "metadata": {
        "id": "w6qbk6N82uNI"
      },
      "outputs": [],
      "source": [
        "generate_submission_CSV_predictions(test_predictions_model, cv_score, model_name = 'xgb_pickle_loaded', cv_index = cv_index)"
      ]
    }
  ],
  "metadata": {
    "accelerator": "GPU",
    "colab": {
      "gpuType": "A100",
      "machine_shape": "hm",
      "provenance": []
    },
    "kernelspec": {
      "display_name": "Python 3",
      "name": "python3"
    },
    "language_info": {
      "codemirror_mode": {
        "name": "ipython",
        "version": 3
      },
      "file_extension": ".py",
      "mimetype": "text/x-python",
      "name": "python",
      "nbconvert_exporter": "python",
      "pygments_lexer": "ipython3",
      "version": "3.11.4"
    }
  },
  "nbformat": 4,
  "nbformat_minor": 0
}